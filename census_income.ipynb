{
  "nbformat": 4,
  "nbformat_minor": 0,
  "metadata": {
    "colab": {
      "provenance": []
    },
    "kernelspec": {
      "name": "python3",
      "display_name": "Python 3"
    },
    "language_info": {
      "name": "python"
    }
  },
  "cells": [
    {
      "cell_type": "code",
      "execution_count": 2,
      "metadata": {
        "id": "OkG7rn9nJdCW",
        "colab": {
          "base_uri": "https://localhost:8080/"
        },
        "outputId": "9a6ec23b-654e-4c4a-e106-1f3b3ff72052"
      },
      "outputs": [
        {
          "output_type": "stream",
          "name": "stdout",
          "text": [
            "   age          workclass  fnlwgt      education  education_num       marital_status          occupation    relationship    race      sex  capital_gain  capital_loss  hours_per_week  native_country   income\n",
            "0   25            Private  226802           11th              7        Never-married   Machine-op-inspct       Own-child   Black     Male             0             0              40   United-States   <=50K.\n",
            "1   38            Private   89814        HS-grad              9   Married-civ-spouse     Farming-fishing         Husband   White     Male             0             0              50   United-States   <=50K.\n",
            "2   28          Local-gov  336951     Assoc-acdm             12   Married-civ-spouse     Protective-serv         Husband   White     Male             0             0              40   United-States    >50K.\n",
            "3   44            Private  160323   Some-college             10   Married-civ-spouse   Machine-op-inspct         Husband   Black     Male          7688             0              40   United-States    >50K.\n",
            "4   18                  ?  103497   Some-college             10        Never-married                   ?       Own-child   White   Female             0             0              30   United-States   <=50K.\n",
            "5   34            Private  198693           10th              6        Never-married       Other-service   Not-in-family   White     Male             0             0              30   United-States   <=50K.\n",
            "6   29                  ?  227026        HS-grad              9        Never-married                   ?       Unmarried   Black     Male             0             0              40   United-States   <=50K.\n",
            "7   63   Self-emp-not-inc  104626    Prof-school             15   Married-civ-spouse      Prof-specialty         Husband   White     Male          3103             0              32   United-States    >50K.\n",
            "8   24            Private  369667   Some-college             10        Never-married       Other-service       Unmarried   White   Female             0             0              40   United-States   <=50K.\n",
            "9   55            Private  104996        7th-8th              4   Married-civ-spouse        Craft-repair         Husband   White     Male             0             0              10   United-States   <=50K.\n",
            "\n",
            "\n",
            "age               0\n",
            "workclass         0\n",
            "fnlwgt            0\n",
            "education         0\n",
            "education_num     0\n",
            "marital_status    0\n",
            "occupation        0\n",
            "relationship      0\n",
            "race              0\n",
            "sex               0\n",
            "capital_gain      0\n",
            "capital_loss      0\n",
            "hours_per_week    0\n",
            "native_country    0\n",
            "income            0\n",
            "dtype: int64\n",
            "\n",
            "\n",
            "                  count           mean            std      min       25%       50%       75%        max\n",
            "age             48842.0      38.643585      13.710510     17.0      28.0      37.0      48.0       90.0\n",
            "fnlwgt          48842.0  189664.134597  105604.025423  12285.0  117550.5  178144.5  237642.0  1490400.0\n",
            "education_num   48842.0      10.078089       2.570973      1.0       9.0      10.0      12.0       16.0\n",
            "capital_gain    48842.0    1079.067626    7452.019058      0.0       0.0       0.0       0.0    99999.0\n",
            "capital_loss    48842.0      87.502314     403.004552      0.0       0.0       0.0       0.0     4356.0\n",
            "hours_per_week  48842.0      40.422382      12.391444      1.0      40.0      40.0      45.0       99.0\n",
            "   age  workclass  fnlwgt  education  education_num  marital_status  occupation  relationship  race  sex  capital_gain  capital_loss  hours_per_week  native_country  income\n",
            "0   25          3  226802          1              7               4           6             3     2    1             0             0              40              38       0\n",
            "1   38          3   89814         11              9               2           4             0     4    1             0             0              50              38       0\n",
            "2   28          1  336951          7             12               2          10             0     4    1             0             0              40              38       1\n",
            "3   44          3  160323         15             10               2           6             0     2    1          7688             0              40              38       1\n",
            "4   18          3  103497         15             10               4           9             3     4    0             0             0              30              38       0\n",
            "5   34          3  198693          0              6               4           7             1     4    1             0             0              30              38       0\n",
            "6   29          3  227026         11              9               4           9             4     2    1             0             0              40              38       0\n",
            "7   63          5  104626         14             15               2           9             0     4    1          3103             0              32              38       1\n",
            "8   24          3  369667         15             10               4           7             4     4    0             0             0              40              38       0\n",
            "9   55          3  104996          5              4               2           2             0     4    1             0             0              10              38       0\n",
            "0    37155\n",
            "1    11687\n",
            "Name: income, dtype: int64\n"
          ]
        }
      ],
      "source": [
        "# Importing  libraries\n",
        "import numpy as np\n",
        "import pandas as pd\n",
        "import matplotlib.pyplot as plt\n",
        "import seaborn as sns\n",
        "from sklearn.naive_bayes import GaussianNB\n",
        "from sklearn.model_selection import train_test_split\n",
        "from sklearn.metrics import classification_report\n",
        "from sklearn.metrics import confusion_matrix\n",
        "from sklearn.preprocessing import LabelEncoder\n",
        "from sklearn.svm import SVC\n",
        "from sklearn.model_selection import cross_val_score\n",
        "import sklearn\n",
        "from sklearn.metrics import accuracy_score, f1_score, confusion_matrix\n",
        "from imblearn.over_sampling import RandomOverSampler\n",
        "import warnings\n",
        "from sklearn.ensemble import BaggingClassifier\n",
        "from sklearn.ensemble import AdaBoostClassifier\n",
        "\n",
        "\n",
        "pd.set_option('display.max_columns', 20)\n",
        "pd.set_option('display.expand_frame_repr', False)\n",
        "\n",
        "\n",
        "warnings.filterwarnings('ignore');\n",
        "\n",
        "# Importing dataset from directory\n",
        "train_data = pd.read_csv('adult.test', header=None)\n",
        "# Columns name we can find from data description\n",
        "col_labels = ['age', 'workclass', 'fnlwgt', 'education', 'education_num', 'marital_status', 'occupation',\n",
        "              'relationship',\n",
        "              'race', 'sex', 'capital_gain', 'capital_loss', 'hours_per_week', 'native_country', 'income']\n",
        "\n",
        "\n",
        "train_data.columns = col_labels\n",
        "\n",
        "\n",
        "print(train_data.head(10))\n",
        "print('\\n')\n",
        "print(train_data.isnull().sum())\n",
        "print('\\n')\n",
        "print(train_data.describe().T)\n",
        "\n",
        "#data transformations are did\n",
        "train_data['workclass'] = train_data.workclass.str.replace('?', 'Private')\n",
        "train_data['occupation'] = train_data.occupation.str.replace('?', 'Prof-specialty')\n",
        "train_data['native_country'] = train_data.native_country.str.replace('?', 'United-States')\n",
        "le = LabelEncoder()\n",
        "train_data['workclass'] = le.fit_transform(train_data['workclass'])\n",
        "train_data['marital_status'] = le.fit_transform(train_data['marital_status'])\n",
        "train_data['education'] = le.fit_transform(train_data['education'])\n",
        "train_data['occupation'] = le.fit_transform(train_data['occupation'])\n",
        "train_data['relationship'] = le.fit_transform(train_data['relationship'])\n",
        "train_data['race'] = le.fit_transform(train_data['race'])\n",
        "train_data['sex'] = le.fit_transform(train_data['sex'])\n",
        "train_data['native_country'] = le.fit_transform(train_data['native_country'])\n",
        "\n",
        "\n",
        "\n",
        "train_data['income'] = train_data['income'].str.replace('.', '')\n",
        "train_data['income']  = train_data.income.replace({\" <=50K\": 0, \" >50K\": 1}) # target\n",
        "\n",
        "\n",
        "# fill na values to zeros\n",
        "train_data = train_data.fillna(0)\n",
        "\n",
        "print(train_data.head(10))\n",
        "\n",
        "print(train_data['income'].value_counts())\n"
      ]
    },
    {
      "cell_type": "markdown",
      "source": [
        "DECISION TREE 1-Gain ratio"
      ],
      "metadata": {
        "id": "YTMtW2a-ZS_H"
      }
    },
    {
      "cell_type": "code",
      "source": [
        "from sklearn.tree import DecisionTreeClassifier\n",
        "from sklearn.metrics import accuracy_score\n",
        "\n",
        "# replace ? symbols with nan values\n",
        "train_data = train_data.replace('?', np.nan)\n",
        "\n",
        "# drop na values\n",
        "train_data = train_data.dropna()\n",
        "\n",
        "\n",
        "# Split data into features and target\n",
        "x = train_data.drop('income', axis=1)\n",
        "y = train_data['income']\n",
        "\n",
        "\n",
        "# Split data into training and testing sets, %20 test set and %80 for training\n",
        "X_train, X_test, y_train, y_test = train_test_split(x, y, test_size=0.2)\n",
        "\n",
        "\n",
        "tree = DecisionTreeClassifier(criterion='entropy', splitter='best', max_depth=7, )\n",
        "tree.fit(X_train, y_train)\n",
        "\n",
        "# Evaluate test test\n",
        "y_pred = tree.predict\n",
        "\n",
        "y_test = y_test.astype(int)\n",
        "y_pred = tree.predict(X_test).astype(int)\n",
        "\n",
        "print(\"Classification Report:\")\n",
        "print(classification_report(y_test, y_pred))\n",
        "\n",
        "print(\"Confusion Matrix:\")\n",
        "print(confusion_matrix(y_test, y_pred))\n",
        "\n",
        "accuracy = accuracy_score(y_test, y_pred)\n",
        "print(\"Accuracy: {:.2f}%\".format(accuracy*100))\n",
        "\n"
      ],
      "metadata": {
        "colab": {
          "base_uri": "https://localhost:8080/"
        },
        "id": "z2xJDJImgSE-",
        "outputId": "385cdc1d-9775-46dd-8c70-816ca7844f48"
      },
      "execution_count": 3,
      "outputs": [
        {
          "output_type": "stream",
          "name": "stdout",
          "text": [
            "Classification Report:\n",
            "              precision    recall  f1-score   support\n",
            "\n",
            "           0       0.86      0.96      0.91      7420\n",
            "           1       0.81      0.52      0.63      2349\n",
            "\n",
            "    accuracy                           0.86      9769\n",
            "   macro avg       0.84      0.74      0.77      9769\n",
            "weighted avg       0.85      0.86      0.84      9769\n",
            "\n",
            "Confusion Matrix:\n",
            "[[7134  286]\n",
            " [1128 1221]]\n",
            "Accuracy: 85.53%\n"
          ]
        }
      ]
    },
    {
      "cell_type": "markdown",
      "source": [
        "Bagging Ensemble"
      ],
      "metadata": {
        "id": "rZ5g6MDgA2k7"
      }
    },
    {
      "cell_type": "code",
      "source": [
        "#it takes tree for the  bagging en uses training set and test sets\n",
        "bagging = BaggingClassifier(base_estimator=tree, n_estimators=5, random_state=42)\n",
        "bagging.fit(X_train, y_train)\n",
        "\n",
        "y_pred = bagging.predict(X_test)\n",
        "accuracy = accuracy_score(y_test, y_pred)\n",
        "print(\"Classification Report:\")\n",
        "print(classification_report(y_test, y_pred))\n",
        "\n",
        "print(\"Confusion Matrix:\")\n",
        "print(confusion_matrix(y_test, y_pred))\n",
        "\n",
        "accuracy = accuracy_score(y_test, y_pred)\n",
        "print(\"Accuracy: {:.2f}%\".format(accuracy*100))\n",
        "\n"
      ],
      "metadata": {
        "colab": {
          "base_uri": "https://localhost:8080/"
        },
        "id": "3HncaYiPA3Ap",
        "outputId": "7cfb352b-11f0-49e6-b37b-f5d68dc4105a"
      },
      "execution_count": 4,
      "outputs": [
        {
          "output_type": "stream",
          "name": "stdout",
          "text": [
            "Classification Report:\n",
            "              precision    recall  f1-score   support\n",
            "\n",
            "           0       0.86      0.96      0.91      7420\n",
            "           1       0.81      0.52      0.63      2349\n",
            "\n",
            "    accuracy                           0.85      9769\n",
            "   macro avg       0.84      0.74      0.77      9769\n",
            "weighted avg       0.85      0.85      0.84      9769\n",
            "\n",
            "Confusion Matrix:\n",
            "[[7133  287]\n",
            " [1131 1218]]\n",
            "Accuracy: 85.48%\n"
          ]
        }
      ]
    },
    {
      "cell_type": "markdown",
      "source": [
        "Boosting Ensemble"
      ],
      "metadata": {
        "id": "C6S4bBRgA61e"
      }
    },
    {
      "cell_type": "code",
      "source": [
        "# I choosed adaboostclassifier for the ensembling\n",
        "boosting_ensemble = AdaBoostClassifier(base_estimator=tree, n_estimators=5, learning_rate=0.6, random_state=42)\n",
        "boosting_ensemble.fit(X_train, y_train)\n",
        "\n",
        "y_pred = boosting_ensemble.predict(X_test)\n",
        "accuracy = accuracy_score(y_test, y_pred)\n",
        "print(\"Classification Report:\")\n",
        "print(classification_report(y_test, y_pred))\n",
        "\n",
        "print(\"Confusion Matrix:\")\n",
        "print(confusion_matrix(y_test, y_pred))\n",
        "\n",
        "accuracy = accuracy_score(y_test, y_pred)\n",
        "print(\"Accuracy: {:.2f}%\".format(accuracy*100))\n"
      ],
      "metadata": {
        "colab": {
          "base_uri": "https://localhost:8080/"
        },
        "id": "rm6bd1c3A7Zh",
        "outputId": "1b5d9b6c-d563-4cbe-8dc7-5597c6f4a4dd"
      },
      "execution_count": 5,
      "outputs": [
        {
          "output_type": "stream",
          "name": "stdout",
          "text": [
            "Classification Report:\n",
            "              precision    recall  f1-score   support\n",
            "\n",
            "           0       0.89      0.95      0.92      7420\n",
            "           1       0.79      0.61      0.69      2349\n",
            "\n",
            "    accuracy                           0.87      9769\n",
            "   macro avg       0.84      0.78      0.80      9769\n",
            "weighted avg       0.86      0.87      0.86      9769\n",
            "\n",
            "Confusion Matrix:\n",
            "[[7030  390]\n",
            " [ 906 1443]]\n",
            "Accuracy: 86.73%\n"
          ]
        }
      ]
    },
    {
      "cell_type": "markdown",
      "source": [
        "Decision Tree Visualization"
      ],
      "metadata": {
        "id": "bQ7dxZVr40Sn"
      }
    },
    {
      "cell_type": "code",
      "source": [
        "from sklearn.tree import plot_tree\n",
        "import matplotlib.pyplot as plt\n",
        "\n",
        "plt.figure(figsize=(20,10))\n",
        "plot_tree(tree, filled=True)\n",
        "plt.show()"
      ],
      "metadata": {
        "id": "pRB-PUx147cJ",
        "colab": {
          "base_uri": "https://localhost:8080/",
          "height": 770
        },
        "outputId": "ffc99feb-149e-4aa5-aa23-e08ee157df18"
      },
      "execution_count": 6,
      "outputs": [
        {
          "output_type": "display_data",
          "data": {
            "text/plain": [
              "<Figure size 2000x1000 with 1 Axes>"
            ],
            "image/png": "[encoded data removed]"
          },
          "metadata": {}
        }
      ]
    },
    {
      "cell_type": "markdown",
      "source": [
        "DECISION TREE 2-GINI INDEX"
      ],
      "metadata": {
        "id": "gL_ci4KKGZRJ"
      }
    },
    {
      "cell_type": "code",
      "source": [
        "\n",
        "# Define Decision tree model\n",
        "tree_gini = DecisionTreeClassifier(criterion='gini', max_depth=3, random_state=42)\n",
        "tree_gini.fit(X_train, y_train)\n",
        "\n",
        "# evalaute model perfromance on the test data\n",
        "y_pred = tree_gini.predict\n",
        "\n",
        "tree_gini.fit(X_train, y_train)\n",
        "\n",
        "\n",
        "y_test = y_test.astype(int)\n",
        "y_pred = tree_gini.predict(X_test).astype(int)\n",
        "\n",
        "print(\"Classification Report:\")\n",
        "print(classification_report(y_test, y_pred))\n",
        "\n",
        "print(\"Confusion Matrix:\")\n",
        "print(confusion_matrix(y_test, y_pred))\n",
        "\n",
        "accuracy = accuracy_score(y_test, y_pred)\n",
        "print(\"Accuracy: {:.2f}%\".format(accuracy*100))\n",
        "\n",
        "print('\\n')\n",
        "#cross validation  is applied\n",
        "cv_gini = cross_val_score(tree_gini, x, y, cv=10)\n",
        "print(\"cross validation for gini  \")\n",
        "print(+cv_gini)"
      ],
      "metadata": {
        "id": "AfytVyitG3tG",
        "colab": {
          "base_uri": "https://localhost:8080/"
        },
        "outputId": "47abeb32-d48e-40c0-fec0-20c6b22f551a"
      },
      "execution_count": null,
      "outputs": [
        {
          "output_type": "stream",
          "name": "stdout",
          "text": [
            "Classification Report:\n",
            "              precision    recall  f1-score   support\n",
            "\n",
            "           0       0.85      0.95      0.90      7408\n",
            "           1       0.76      0.48      0.59      2361\n",
            "\n",
            "    accuracy                           0.84      9769\n",
            "   macro avg       0.81      0.72      0.74      9769\n",
            "weighted avg       0.83      0.84      0.82      9769\n",
            "\n",
            "Confusion Matrix:\n",
            "[[7056  352]\n",
            " [1231 1130]]\n",
            "Accuracy: 83.80%\n",
            "\n",
            "\n",
            "cross validation for gini  \n",
            "[0.83664278 0.83398158 0.84009009 0.83660934 0.83988534 0.83722359\n",
            " 0.84561835 0.83722359 0.84725635 0.84193284]\n"
          ]
        }
      ]
    },
    {
      "cell_type": "markdown",
      "source": [
        "\n",
        "\n",
        "Bagging Ensemble\n",
        "\n"
      ],
      "metadata": {
        "id": "b_ZBRqH1AxlL"
      }
    },
    {
      "cell_type": "code",
      "source": [
        "bagging = BaggingClassifier(base_estimator=tree_gini, n_estimators=15, random_state=42)\n",
        "bagging.fit(X_train, y_train)\n",
        "\n",
        "y_pred = bagging.predict(X_test)\n",
        "accuracy = accuracy_score(y_test, y_pred)\n",
        "print('Bagging Ensemble Accuracy: {:.2%}'.format(accuracy))"
      ],
      "metadata": {
        "colab": {
          "base_uri": "https://localhost:8080/"
        },
        "id": "Nd-K-WeTBKZ5",
        "outputId": "9fecacb7-9329-4e9d-9e4a-184e9e635f98"
      },
      "execution_count": null,
      "outputs": [
        {
          "output_type": "stream",
          "name": "stdout",
          "text": [
            "Bagging Ensemble Accuracy: 83.78%\n"
          ]
        }
      ]
    },
    {
      "cell_type": "markdown",
      "source": [
        "Boosting Ensemble"
      ],
      "metadata": {
        "id": "yLb0yRXeBKpP"
      }
    },
    {
      "cell_type": "code",
      "source": [
        "boosting_ensemble = AdaBoostClassifier(base_estimator=tree_gini, n_estimators=10, learning_rate=0.6, random_state=42)\n",
        "boosting_ensemble.fit(X_train, y_train)\n",
        "\n",
        "y_pred = boosting_ensemble.predict(X_test)\n",
        "accuracy = accuracy_score(y_test, y_pred)\n",
        "print('Boosting Ensemble Accuracy: {:.2%}'.format(accuracy))"
      ],
      "metadata": {
        "colab": {
          "base_uri": "https://localhost:8080/"
        },
        "id": "FuxA9Ht8BKwV",
        "outputId": "82db5ecd-8ecf-4a77-c1e9-7d90f11ee1bf"
      },
      "execution_count": null,
      "outputs": [
        {
          "output_type": "stream",
          "name": "stdout",
          "text": [
            "Boosting Ensemble Accuracy: 86.12%\n"
          ]
        }
      ]
    },
    {
      "cell_type": "markdown",
      "source": [
        "Naive Bayes"
      ],
      "metadata": {
        "id": "32HYAT2tQCTC"
      }
    },
    {
      "cell_type": "code",
      "source": [
        "\n",
        "# Split data into features and target\n",
        "x = train_data.drop('income', axis=1)\n",
        "y = train_data['income']\n",
        "\n",
        "# Split data into training and testing sets\n",
        "X_train, X_test, y_train, y_test = train_test_split(x, y, test_size=0.2)\n",
        "\n",
        "# Train the model\n",
        "naivemodel = GaussianNB()\n",
        "naivemodel.fit(X_train, y_train)\n",
        "\n",
        "# Make predictions on the test set\n",
        "y_pred = naivemodel.predict(X_test)\n",
        "\n",
        "# Calculate accuracy\n",
        "print(classification_report(y_test,y_pred))\n",
        "print(\"Confusion Matrix:\")\n",
        "print(confusion_matrix(y_test,y_pred))\n",
        "print(\"Accuracy: {:.2f}%\".format(accuracy_score(y_test,y_pred)*100))\n"
      ],
      "metadata": {
        "id": "hfUv1BTvVMiL",
        "colab": {
          "base_uri": "https://localhost:8080/"
        },
        "outputId": "c09a9863-c4c5-4ab3-bd7f-368571dc0d6d"
      },
      "execution_count": null,
      "outputs": [
        {
          "output_type": "stream",
          "name": "stdout",
          "text": [
            "              precision    recall  f1-score   support\n",
            "\n",
            "           0       0.81      0.95      0.87      7353\n",
            "           1       0.66      0.30      0.42      2416\n",
            "\n",
            "    accuracy                           0.79      9769\n",
            "   macro avg       0.73      0.63      0.64      9769\n",
            "weighted avg       0.77      0.79      0.76      9769\n",
            "\n",
            "Confusion Matrix:\n",
            "[[6975  378]\n",
            " [1682  734]]\n",
            "Accuracy: 78.91%\n"
          ]
        }
      ]
    },
    {
      "cell_type": "markdown",
      "source": [
        "NAIVE BAYES BAGGING ENSEMBLE"
      ],
      "metadata": {
        "id": "eFv6tBw3FL4I"
      }
    },
    {
      "cell_type": "code",
      "source": [
        "bagging = BaggingClassifier(base_estimator=naivemodel, n_estimators=100, random_state=42)\n",
        "bagging.fit(X_train, y_train)\n",
        "\n",
        "y_pred = bagging.predict(X_test)\n",
        "accuracy = accuracy_score(y_test, y_pred)\n",
        "print(\"Bagging Ensemble Accuracy: {:.2f}%\".format(accuracy*100))\n"
      ],
      "metadata": {
        "id": "oTMFq3LPFPjc",
        "colab": {
          "base_uri": "https://localhost:8080/"
        },
        "outputId": "d80cbeea-2cca-46fb-9342-37ef746b97d7"
      },
      "execution_count": null,
      "outputs": [
        {
          "output_type": "stream",
          "name": "stdout",
          "text": [
            "Bagging Ensemble Accuracy: 78.90%\n"
          ]
        }
      ]
    },
    {
      "cell_type": "markdown",
      "source": [
        "NAIVE BAYES BOOSTING ENSEMBLE"
      ],
      "metadata": {
        "id": "rSgJ0YLVFQFk"
      }
    },
    {
      "cell_type": "code",
      "source": [
        "boosting_ensemble = AdaBoostClassifier(base_estimator=naivemodel, n_estimators=50, learning_rate=0.7, random_state=42)\n",
        "boosting_ensemble.fit(X_train, y_train)\n",
        "\n",
        "y_pred = boosting_ensemble.predict(X_test)\n",
        "accuracy = accuracy_score(y_test, y_pred)\n",
        "print(\"Boosting Ensemble Accuracy: {:.2f}%\".format(accuracy*100))\n"
      ],
      "metadata": {
        "id": "xK5tjXDzFQSA",
        "colab": {
          "base_uri": "https://localhost:8080/"
        },
        "outputId": "0bb26871-e41d-4ee3-a4cb-e63232ac4688"
      },
      "execution_count": null,
      "outputs": [
        {
          "output_type": "stream",
          "name": "stdout",
          "text": [
            "Boosting Ensemble Accuracy: 68.36%\n"
          ]
        }
      ]
    },
    {
      "cell_type": "markdown",
      "source": [
        "NEURAL NETWORKS (1 HIDDEN LAYER)"
      ],
      "metadata": {
        "id": "XNpW5lUEFi6O"
      }
    },
    {
      "cell_type": "code",
      "source": [
        "\n",
        "import keras\n",
        "from keras.models import Sequential\n",
        "from keras.layers import Dense\n",
        "import tensorflow as tf\n",
        "def create_ann():\n",
        "  ann_model = keras.Sequential()\n",
        "\n",
        "  # Add layer 1\n",
        "  ann_model.add(Dense(units=16, activation='relu', input_dim=14))\n",
        "\n",
        "  ann_model.add(Dense(units = 1, kernel_initializer = 'uniform', activation = 'sigmoid'))\n",
        "\n",
        "  # Model construction\n",
        "  ann_model.compile(loss='binary_crossentropy', optimizer='adam', metrics=['accuracy'])\n",
        "  return ann_model\n",
        "\n",
        "ann_model1= create_ann()\n",
        "\n",
        "\n",
        "# train model\n",
        "\n",
        "ann_model1.fit(X_train, y_train, epochs=15, batch_size=30)\n",
        "\n",
        "# Evaluate model\n",
        "score = ann_model1.evaluate(X_test, y_test, batch_size=30)\n",
        "\n",
        "print(\"Classification report:\")\n",
        "print(classification_report(y_test, y_pred))\n",
        "\n",
        "cm = confusion_matrix(y_test, y_pred)\n",
        "print(\"Confusion matrix:\")\n",
        "print(cm)\n",
        "\n",
        "print('Test loss:', score[0])\n",
        "print('Accuracy: {:.2%}'.format(score[1]))"
      ],
      "metadata": {
        "id": "LCew_wt7FjRC"
      },
      "execution_count": null,
      "outputs": []
    },
    {
      "cell_type": "markdown",
      "source": [
        "Bagging Ensemble"
      ],
      "metadata": {
        "id": "C5ZFS0YekxBA"
      }
    },
    {
      "cell_type": "code",
      "source": [
        "keras_clf = tf.keras.wrappers.scikit_learn.KerasClassifier(\n",
        "                            create_ann,\n",
        "                            epochs=15,\n",
        "                            verbose=True)\n",
        "\n",
        "keras_clf._estimator_type = \"classifier\"\n",
        "bagging = BaggingClassifier(base_estimator=keras_clf, n_estimators=15, random_state=42)\n",
        "bagging.fit(X_train, y_train)\n",
        "\n",
        "y_pred = bagging.predict(X_test)\n",
        "accuracy = accuracy_score(y_test, y_pred)\n",
        "print('Bagging Ensemble Accuracy: {:.2%}'.format(accuracy))"
      ],
      "metadata": {
        "colab": {
          "base_uri": "https://localhost:8080/"
        },
        "id": "kIHNmrEvdqFN",
        "outputId": "83c09928-c597-423f-9e84-21f9e6b78076"
      },
      "execution_count": null,
      "outputs": [
        {
          "output_type": "stream",
          "name": "stdout",
          "text": [
            "Epoch 1/15\n",
            "1222/1222 [==============================] - 3s 2ms/step - loss: 25.1866 - accuracy: 0.6875\n",
            "Epoch 2/15\n",
            "1222/1222 [==============================] - 4s 3ms/step - loss: 22.5175 - accuracy: 0.6865\n",
            "Epoch 3/15\n",
            "1222/1222 [==============================] - 4s 3ms/step - loss: 19.2378 - accuracy: 0.6903\n",
            "Epoch 4/15\n",
            "1222/1222 [==============================] - 2s 2ms/step - loss: 18.0911 - accuracy: 0.6884\n",
            "Epoch 5/15\n",
            "1222/1222 [==============================] - 4s 4ms/step - loss: 14.9649 - accuracy: 0.6917\n",
            "Epoch 6/15\n",
            "1222/1222 [==============================] - 4s 3ms/step - loss: 15.8073 - accuracy: 0.6859\n",
            "Epoch 7/15\n",
            "1222/1222 [==============================] - 7s 5ms/step - loss: 14.3396 - accuracy: 0.6892\n",
            "Epoch 8/15\n",
            "1222/1222 [==============================] - 4s 3ms/step - loss: 13.7022 - accuracy: 0.6918\n",
            "Epoch 9/15\n",
            "1222/1222 [==============================] - 3s 3ms/step - loss: 11.1577 - accuracy: 0.6916\n",
            "Epoch 10/15\n",
            "1222/1222 [==============================] - 4s 3ms/step - loss: 10.5475 - accuracy: 0.6898\n",
            "Epoch 11/15\n",
            "1222/1222 [==============================] - 2s 2ms/step - loss: 8.4855 - accuracy: 0.6950\n",
            "Epoch 12/15\n",
            "1222/1222 [==============================] - 2s 2ms/step - loss: 7.3732 - accuracy: 0.6881\n",
            "Epoch 13/15\n",
            "1222/1222 [==============================] - 2s 2ms/step - loss: 7.0430 - accuracy: 0.6927\n",
            "Epoch 14/15\n",
            "1222/1222 [==============================] - 2s 2ms/step - loss: 5.8239 - accuracy: 0.6956\n",
            "Epoch 15/15\n",
            "1222/1222 [==============================] - 3s 3ms/step - loss: 4.5796 - accuracy: 0.6941\n",
            "Epoch 1/15\n",
            "1222/1222 [==============================] - 4s 2ms/step - loss: 15.7546 - accuracy: 0.6752\n",
            "Epoch 2/15\n",
            "1222/1222 [==============================] - 2s 2ms/step - loss: 14.9848 - accuracy: 0.6845\n",
            "Epoch 3/15\n",
            "1222/1222 [==============================] - 2s 2ms/step - loss: 14.3158 - accuracy: 0.6807\n",
            "Epoch 4/15\n",
            "1222/1222 [==============================] - 3s 3ms/step - loss: 11.3407 - accuracy: 0.6841\n",
            "Epoch 5/15\n",
            "1222/1222 [==============================] - 3s 2ms/step - loss: 12.5699 - accuracy: 0.6841\n",
            "Epoch 6/15\n",
            "1222/1222 [==============================] - 3s 2ms/step - loss: 11.2531 - accuracy: 0.6873\n",
            "Epoch 7/15\n",
            "1222/1222 [==============================] - 2s 2ms/step - loss: 12.3767 - accuracy: 0.6873\n",
            "Epoch 8/15\n",
            "1222/1222 [==============================] - 3s 2ms/step - loss: 11.9286 - accuracy: 0.6881\n",
            "Epoch 9/15\n",
            "1222/1222 [==============================] - 2s 2ms/step - loss: 9.8079 - accuracy: 0.6896\n",
            "Epoch 10/15\n",
            "1222/1222 [==============================] - 3s 2ms/step - loss: 9.6891 - accuracy: 0.6894\n",
            "Epoch 11/15\n",
            "1222/1222 [==============================] - 3s 2ms/step - loss: 9.9373 - accuracy: 0.6913\n",
            "Epoch 12/15\n",
            "1222/1222 [==============================] - 2s 2ms/step - loss: 9.9856 - accuracy: 0.6917\n",
            "Epoch 13/15\n",
            "1222/1222 [==============================] - 2s 2ms/step - loss: 8.2017 - accuracy: 0.6895\n",
            "Epoch 14/15\n",
            "1222/1222 [==============================] - 2s 2ms/step - loss: 8.3808 - accuracy: 0.6936\n",
            "Epoch 15/15\n",
            "1222/1222 [==============================] - 3s 2ms/step - loss: 6.7420 - accuracy: 0.6960\n",
            "Epoch 1/15\n",
            "1222/1222 [==============================] - 3s 2ms/step - loss: 25.9891 - accuracy: 0.6763\n",
            "Epoch 2/15\n",
            "1222/1222 [==============================] - 2s 2ms/step - loss: 21.4674 - accuracy: 0.6847\n",
            "Epoch 3/15\n",
            "1222/1222 [==============================] - 2s 2ms/step - loss: 14.1979 - accuracy: 0.6879\n",
            "Epoch 4/15\n",
            "1222/1222 [==============================] - 3s 2ms/step - loss: 14.3164 - accuracy: 0.6881\n",
            "Epoch 5/15\n",
            "1222/1222 [==============================] - 3s 2ms/step - loss: 13.2432 - accuracy: 0.6854\n",
            "Epoch 6/15\n",
            "1222/1222 [==============================] - 2s 2ms/step - loss: 12.3636 - accuracy: 0.6915\n",
            "Epoch 7/15\n",
            "1222/1222 [==============================] - 2s 2ms/step - loss: 12.9371 - accuracy: 0.6892\n",
            "Epoch 8/15\n",
            "1222/1222 [==============================] - 3s 2ms/step - loss: 13.1726 - accuracy: 0.6869\n",
            "Epoch 9/15\n",
            "1222/1222 [==============================] - 3s 2ms/step - loss: 11.0444 - accuracy: 0.6901\n",
            "Epoch 10/15\n",
            "1222/1222 [==============================] - 3s 2ms/step - loss: 11.1119 - accuracy: 0.6894\n",
            "Epoch 11/15\n",
            "1222/1222 [==============================] - 3s 2ms/step - loss: 10.3538 - accuracy: 0.6916\n",
            "Epoch 12/15\n",
            "1222/1222 [==============================] - 3s 2ms/step - loss: 10.9071 - accuracy: 0.6938\n",
            "Epoch 13/15\n",
            "1222/1222 [==============================] - 3s 3ms/step - loss: 10.1559 - accuracy: 0.6936\n",
            "Epoch 14/15\n",
            "1222/1222 [==============================] - 3s 3ms/step - loss: 8.0790 - accuracy: 0.6906\n",
            "Epoch 15/15\n",
            "1222/1222 [==============================] - 2s 2ms/step - loss: 7.9391 - accuracy: 0.6903\n",
            "Epoch 1/15\n",
            "1222/1222 [==============================] - 3s 2ms/step - loss: 81.4966 - accuracy: 0.6789\n",
            "Epoch 2/15\n",
            "1222/1222 [==============================] - 4s 3ms/step - loss: 24.2404 - accuracy: 0.6866\n",
            "Epoch 3/15\n",
            "1222/1222 [==============================] - 5s 4ms/step - loss: 26.2025 - accuracy: 0.6849\n",
            "Epoch 4/15\n",
            "1222/1222 [==============================] - 4s 3ms/step - loss: 22.1576 - accuracy: 0.6895\n",
            "Epoch 5/15\n",
            "1222/1222 [==============================] - 5s 4ms/step - loss: 18.0367 - accuracy: 0.6893\n",
            "Epoch 6/15\n",
            "1222/1222 [==============================] - 5s 4ms/step - loss: 17.6125 - accuracy: 0.6890\n",
            "Epoch 7/15\n",
            "1222/1222 [==============================] - 2s 2ms/step - loss: 16.8386 - accuracy: 0.6862\n",
            "Epoch 8/15\n",
            "1222/1222 [==============================] - 2s 2ms/step - loss: 16.0943 - accuracy: 0.6877\n",
            "Epoch 9/15\n",
            "1222/1222 [==============================] - 2s 2ms/step - loss: 14.2147 - accuracy: 0.6901\n",
            "Epoch 10/15\n",
            "1222/1222 [==============================] - 2s 2ms/step - loss: 13.3332 - accuracy: 0.6901\n",
            "Epoch 11/15\n",
            "1222/1222 [==============================] - 3s 3ms/step - loss: 12.2662 - accuracy: 0.6903\n",
            "Epoch 12/15\n",
            "1222/1222 [==============================] - 2s 2ms/step - loss: 12.7554 - accuracy: 0.6887\n",
            "Epoch 13/15\n",
            "1222/1222 [==============================] - 2s 2ms/step - loss: 13.2082 - accuracy: 0.6916\n",
            "Epoch 14/15\n",
            "1222/1222 [==============================] - 2s 2ms/step - loss: 10.9016 - accuracy: 0.6925\n",
            "Epoch 15/15\n",
            "1222/1222 [==============================] - 2s 2ms/step - loss: 12.1717 - accuracy: 0.6916\n",
            "Epoch 1/15\n",
            "1222/1222 [==============================] - 4s 2ms/step - loss: 11.9307 - accuracy: 0.6890\n",
            "Epoch 2/15\n",
            "1222/1222 [==============================] - 2s 2ms/step - loss: 9.0426 - accuracy: 0.6903\n",
            "Epoch 3/15\n",
            "1222/1222 [==============================] - 2s 2ms/step - loss: 8.3958 - accuracy: 0.6883\n",
            "Epoch 4/15\n",
            "1222/1222 [==============================] - 2s 2ms/step - loss: 6.9886 - accuracy: 0.6910\n",
            "Epoch 5/15\n",
            "1222/1222 [==============================] - 3s 2ms/step - loss: 5.7541 - accuracy: 0.6890\n",
            "Epoch 6/15\n",
            "1222/1222 [==============================] - 3s 3ms/step - loss: 5.8381 - accuracy: 0.6925\n",
            "Epoch 7/15\n",
            "1222/1222 [==============================] - 2s 2ms/step - loss: 5.9436 - accuracy: 0.6962\n",
            "Epoch 8/15\n",
            "1222/1222 [==============================] - 2s 2ms/step - loss: 4.7863 - accuracy: 0.6959\n",
            "Epoch 9/15\n",
            "1222/1222 [==============================] - 2s 2ms/step - loss: 4.2611 - accuracy: 0.6992\n",
            "Epoch 10/15\n",
            "1222/1222 [==============================] - 2s 2ms/step - loss: 5.1380 - accuracy: 0.6932\n",
            "Epoch 11/15\n",
            "1222/1222 [==============================] - 3s 3ms/step - loss: 4.0800 - accuracy: 0.6998\n",
            "Epoch 12/15\n",
            "1222/1222 [==============================] - 2s 2ms/step - loss: 4.7434 - accuracy: 0.6932\n",
            "Epoch 13/15\n",
            "1222/1222 [==============================] - 2s 2ms/step - loss: 3.7448 - accuracy: 0.7021\n",
            "Epoch 14/15\n",
            "1222/1222 [==============================] - 2s 2ms/step - loss: 3.9134 - accuracy: 0.6993\n",
            "Epoch 15/15\n",
            "1222/1222 [==============================] - 2s 2ms/step - loss: 4.0303 - accuracy: 0.6999\n",
            "Epoch 1/15\n",
            "1222/1222 [==============================] - 4s 3ms/step - loss: 35.1882 - accuracy: 0.6790\n",
            "Epoch 2/15\n",
            "1222/1222 [==============================] - 2s 2ms/step - loss: 20.1269 - accuracy: 0.6808\n",
            "Epoch 3/15\n",
            "1222/1222 [==============================] - 3s 3ms/step - loss: 16.6291 - accuracy: 0.6858\n",
            "Epoch 4/15\n",
            "1222/1222 [==============================] - 3s 2ms/step - loss: 14.0835 - accuracy: 0.6862\n",
            "Epoch 5/15\n",
            "1222/1222 [==============================] - 2s 2ms/step - loss: 13.5425 - accuracy: 0.6828\n",
            "Epoch 6/15\n",
            "1222/1222 [==============================] - 2s 2ms/step - loss: 13.5333 - accuracy: 0.6813\n",
            "Epoch 7/15\n",
            "1222/1222 [==============================] - 2s 2ms/step - loss: 10.7883 - accuracy: 0.6834\n",
            "Epoch 8/15\n",
            "1222/1222 [==============================] - 2s 2ms/step - loss: 12.2646 - accuracy: 0.6837\n",
            "Epoch 9/15\n",
            "1222/1222 [==============================] - 4s 3ms/step - loss: 11.9773 - accuracy: 0.6850\n",
            "Epoch 10/15\n",
            "1222/1222 [==============================] - 3s 3ms/step - loss: 9.7644 - accuracy: 0.6859\n",
            "Epoch 11/15\n",
            "1222/1222 [==============================] - 2s 2ms/step - loss: 11.0565 - accuracy: 0.6837\n",
            "Epoch 12/15\n",
            "1222/1222 [==============================] - 2s 2ms/step - loss: 9.6156 - accuracy: 0.6886\n",
            "Epoch 13/15\n",
            "1222/1222 [==============================] - 3s 3ms/step - loss: 8.4237 - accuracy: 0.6862\n",
            "Epoch 14/15\n",
            "1222/1222 [==============================] - 2s 2ms/step - loss: 8.2058 - accuracy: 0.6852\n",
            "Epoch 15/15\n",
            "1222/1222 [==============================] - 2s 2ms/step - loss: 6.8349 - accuracy: 0.6924\n",
            "Epoch 1/15\n",
            "1222/1222 [==============================] - 3s 2ms/step - loss: 19.1398 - accuracy: 0.6798\n",
            "Epoch 2/15\n",
            "1222/1222 [==============================] - 2s 2ms/step - loss: 11.6879 - accuracy: 0.6818\n",
            "Epoch 3/15\n",
            "1222/1222 [==============================] - 2s 2ms/step - loss: 10.7345 - accuracy: 0.6847\n",
            "Epoch 4/15\n",
            "1222/1222 [==============================] - 2s 2ms/step - loss: 9.3091 - accuracy: 0.6871\n",
            "Epoch 5/15\n",
            "1222/1222 [==============================] - 3s 2ms/step - loss: 9.5959 - accuracy: 0.6888\n",
            "Epoch 6/15\n",
            "1222/1222 [==============================] - 3s 2ms/step - loss: 7.8353 - accuracy: 0.6868\n",
            "Epoch 7/15\n",
            "1222/1222 [==============================] - 2s 2ms/step - loss: 7.3947 - accuracy: 0.6887\n",
            "Epoch 8/15\n",
            "1222/1222 [==============================] - 2s 2ms/step - loss: 7.6351 - accuracy: 0.6875\n",
            "Epoch 9/15\n",
            "1222/1222 [==============================] - 2s 2ms/step - loss: 7.3008 - accuracy: 0.6906\n",
            "Epoch 10/15\n",
            "1222/1222 [==============================] - 2s 2ms/step - loss: 7.1061 - accuracy: 0.6922\n",
            "Epoch 11/15\n",
            "1222/1222 [==============================] - 3s 3ms/step - loss: 5.8172 - accuracy: 0.6932\n",
            "Epoch 12/15\n",
            "1222/1222 [==============================] - 2s 2ms/step - loss: 6.1322 - accuracy: 0.6927\n",
            "Epoch 13/15\n",
            "1222/1222 [==============================] - 2s 2ms/step - loss: 6.2623 - accuracy: 0.6936\n",
            "Epoch 14/15\n",
            "1222/1222 [==============================] - 2s 2ms/step - loss: 7.5508 - accuracy: 0.6911\n",
            "Epoch 15/15\n",
            "1222/1222 [==============================] - 2s 2ms/step - loss: 5.6196 - accuracy: 0.6967\n",
            "Epoch 1/15\n",
            "1222/1222 [==============================] - 4s 3ms/step - loss: 14.4374 - accuracy: 0.6907\n",
            "Epoch 2/15\n",
            "1222/1222 [==============================] - 2s 2ms/step - loss: 7.4504 - accuracy: 0.6926\n",
            "Epoch 3/15\n",
            "1222/1222 [==============================] - 2s 2ms/step - loss: 6.6166 - accuracy: 0.6947\n",
            "Epoch 4/15\n",
            "1222/1222 [==============================] - 2s 2ms/step - loss: 6.1421 - accuracy: 0.6865\n",
            "Epoch 5/15\n",
            "1222/1222 [==============================] - 2s 2ms/step - loss: 5.9973 - accuracy: 0.6890\n",
            "Epoch 6/15\n",
            "1222/1222 [==============================] - 3s 2ms/step - loss: 5.8422 - accuracy: 0.6929\n",
            "Epoch 7/15\n",
            "1222/1222 [==============================] - 3s 2ms/step - loss: 5.0031 - accuracy: 0.6913\n",
            "Epoch 8/15\n",
            "1222/1222 [==============================] - 2s 2ms/step - loss: 4.5985 - accuracy: 0.6928\n",
            "Epoch 9/15\n",
            "1222/1222 [==============================] - 2s 2ms/step - loss: 5.1059 - accuracy: 0.6935\n",
            "Epoch 10/15\n",
            "1222/1222 [==============================] - 2s 2ms/step - loss: 4.2743 - accuracy: 0.6922\n",
            "Epoch 11/15\n",
            "1222/1222 [==============================] - 3s 2ms/step - loss: 4.5700 - accuracy: 0.6913\n",
            "Epoch 12/15\n",
            "1222/1222 [==============================] - 3s 2ms/step - loss: 4.0759 - accuracy: 0.6920\n",
            "Epoch 13/15\n",
            "1222/1222 [==============================] - 2s 2ms/step - loss: 4.2914 - accuracy: 0.6923\n",
            "Epoch 14/15\n",
            "1222/1222 [==============================] - 2s 2ms/step - loss: 3.2808 - accuracy: 0.6989\n",
            "Epoch 15/15\n",
            "1222/1222 [==============================] - 2s 2ms/step - loss: 3.0412 - accuracy: 0.7019\n",
            "Epoch 1/15\n",
            "1222/1222 [==============================] - 3s 2ms/step - loss: 15.3469 - accuracy: 0.6805\n",
            "Epoch 2/15\n",
            "1222/1222 [==============================] - 3s 2ms/step - loss: 15.6794 - accuracy: 0.6884\n",
            "Epoch 3/15\n",
            "1222/1222 [==============================] - 2s 2ms/step - loss: 13.6015 - accuracy: 0.6835\n",
            "Epoch 4/15\n",
            "1222/1222 [==============================] - 2s 2ms/step - loss: 11.6543 - accuracy: 0.6863\n",
            "Epoch 5/15\n",
            "1222/1222 [==============================] - 2s 2ms/step - loss: 10.6309 - accuracy: 0.6859\n",
            "Epoch 6/15\n",
            "1222/1222 [==============================] - 2s 2ms/step - loss: 9.0570 - accuracy: 0.6855\n",
            "Epoch 7/15\n",
            "1222/1222 [==============================] - 3s 3ms/step - loss: 9.5418 - accuracy: 0.6843\n",
            "Epoch 8/15\n",
            "1222/1222 [==============================] - 2s 2ms/step - loss: 10.2891 - accuracy: 0.6865\n",
            "Epoch 9/15\n",
            "1222/1222 [==============================] - 2s 2ms/step - loss: 8.3813 - accuracy: 0.6886\n",
            "Epoch 10/15\n",
            "1222/1222 [==============================] - 2s 2ms/step - loss: 7.2831 - accuracy: 0.6846\n",
            "Epoch 11/15\n",
            "1222/1222 [==============================] - 2s 2ms/step - loss: 6.2392 - accuracy: 0.6901\n",
            "Epoch 12/15\n",
            "1222/1222 [==============================] - 3s 2ms/step - loss: 6.2719 - accuracy: 0.6875\n",
            "Epoch 13/15\n",
            "1222/1222 [==============================] - 3s 2ms/step - loss: 5.0530 - accuracy: 0.6932\n",
            "Epoch 14/15\n",
            "1222/1222 [==============================] - 2s 2ms/step - loss: 4.6348 - accuracy: 0.6946\n",
            "Epoch 15/15\n",
            "1222/1222 [==============================] - 2s 2ms/step - loss: 4.1190 - accuracy: 0.6948\n",
            "Epoch 1/15\n",
            "1222/1222 [==============================] - 3s 2ms/step - loss: 47.4957 - accuracy: 0.6734\n",
            "Epoch 2/15\n",
            "1222/1222 [==============================] - 2s 2ms/step - loss: 23.6301 - accuracy: 0.6845\n",
            "Epoch 3/15\n",
            "1222/1222 [==============================] - 3s 2ms/step - loss: 24.2691 - accuracy: 0.6814\n",
            "Epoch 4/15\n",
            "1222/1222 [==============================] - 2s 2ms/step - loss: 21.7442 - accuracy: 0.6832\n",
            "Epoch 5/15\n",
            "1222/1222 [==============================] - 2s 2ms/step - loss: 18.8984 - accuracy: 0.6853\n",
            "Epoch 6/15\n",
            "1222/1222 [==============================] - 2s 2ms/step - loss: 20.1061 - accuracy: 0.6824\n",
            "Epoch 7/15\n",
            "1222/1222 [==============================] - 2s 2ms/step - loss: 17.0303 - accuracy: 0.6846\n",
            "Epoch 8/15\n",
            "1222/1222 [==============================] - 3s 3ms/step - loss: 21.4909 - accuracy: 0.6857\n",
            "Epoch 9/15\n",
            "1222/1222 [==============================] - 2s 2ms/step - loss: 17.5800 - accuracy: 0.6886\n",
            "Epoch 10/15\n",
            "1222/1222 [==============================] - 2s 2ms/step - loss: 16.5569 - accuracy: 0.6896\n",
            "Epoch 11/15\n",
            "1222/1222 [==============================] - 2s 2ms/step - loss: 16.2793 - accuracy: 0.6878\n",
            "Epoch 12/15\n",
            "1222/1222 [==============================] - 2s 2ms/step - loss: 11.6320 - accuracy: 0.6938\n",
            "Epoch 13/15\n",
            "1222/1222 [==============================] - 3s 2ms/step - loss: 13.0667 - accuracy: 0.6906\n",
            "Epoch 14/15\n",
            "1222/1222 [==============================] - 3s 2ms/step - loss: 13.0676 - accuracy: 0.6933\n",
            "Epoch 15/15\n",
            "1222/1222 [==============================] - 2s 2ms/step - loss: 10.7074 - accuracy: 0.6886\n",
            "Epoch 1/15\n",
            "1222/1222 [==============================] - 4s 3ms/step - loss: 55.6494 - accuracy: 0.6722\n",
            "Epoch 2/15\n",
            "1222/1222 [==============================] - 2s 2ms/step - loss: 16.5662 - accuracy: 0.6941\n",
            "Epoch 3/15\n",
            "1222/1222 [==============================] - 2s 2ms/step - loss: 12.4923 - accuracy: 0.6916\n",
            "Epoch 4/15\n",
            "1222/1222 [==============================] - 2s 2ms/step - loss: 12.0710 - accuracy: 0.6928\n",
            "Epoch 5/15\n",
            "1222/1222 [==============================] - 2s 2ms/step - loss: 11.3723 - accuracy: 0.6929\n",
            "Epoch 6/15\n",
            "1222/1222 [==============================] - 3s 2ms/step - loss: 8.9976 - accuracy: 0.6951\n",
            "Epoch 7/15\n",
            "1222/1222 [==============================] - 2s 2ms/step - loss: 9.0421 - accuracy: 0.6941\n",
            "Epoch 8/15\n",
            "1222/1222 [==============================] - 2s 2ms/step - loss: 7.9465 - accuracy: 0.6926\n",
            "Epoch 9/15\n",
            "1222/1222 [==============================] - 2s 2ms/step - loss: 7.6218 - accuracy: 0.6942\n",
            "Epoch 10/15\n",
            "1222/1222 [==============================] - 2s 2ms/step - loss: 8.0809 - accuracy: 0.6896\n",
            "Epoch 11/15\n",
            "1222/1222 [==============================] - 2s 2ms/step - loss: 7.6533 - accuracy: 0.6967\n",
            "Epoch 12/15\n",
            "1222/1222 [==============================] - 3s 3ms/step - loss: 7.4366 - accuracy: 0.6971\n",
            "Epoch 13/15\n",
            "1222/1222 [==============================] - 2s 2ms/step - loss: 6.6525 - accuracy: 0.6967\n",
            "Epoch 14/15\n",
            "1222/1222 [==============================] - 2s 2ms/step - loss: 6.4481 - accuracy: 0.6932\n",
            "Epoch 15/15\n",
            "1222/1222 [==============================] - 2s 2ms/step - loss: 5.8516 - accuracy: 0.6956\n",
            "Epoch 1/15\n",
            "1222/1222 [==============================] - 3s 2ms/step - loss: 22.5490 - accuracy: 0.6789\n",
            "Epoch 2/15\n",
            "1222/1222 [==============================] - 2s 2ms/step - loss: 19.8520 - accuracy: 0.6840\n",
            "Epoch 3/15\n",
            "1222/1222 [==============================] - 2s 2ms/step - loss: 17.5172 - accuracy: 0.6855\n",
            "Epoch 4/15\n",
            "1222/1222 [==============================] - 2s 2ms/step - loss: 12.3563 - accuracy: 0.6850\n",
            "Epoch 5/15\n",
            "1222/1222 [==============================] - 3s 3ms/step - loss: 13.5058 - accuracy: 0.6814\n",
            "Epoch 6/15\n",
            "1222/1222 [==============================] - 2s 2ms/step - loss: 10.9931 - accuracy: 0.6852\n",
            "Epoch 7/15\n",
            "1222/1222 [==============================] - 2s 2ms/step - loss: 9.8585 - accuracy: 0.6831\n",
            "Epoch 8/15\n",
            "1222/1222 [==============================] - 2s 2ms/step - loss: 10.8075 - accuracy: 0.6839\n",
            "Epoch 9/15\n",
            "1222/1222 [==============================] - 2s 2ms/step - loss: 10.2904 - accuracy: 0.6834\n",
            "Epoch 10/15\n",
            "1222/1222 [==============================] - 3s 2ms/step - loss: 7.3309 - accuracy: 0.6891\n",
            "Epoch 11/15\n",
            "1222/1222 [==============================] - 3s 2ms/step - loss: 8.5955 - accuracy: 0.6829\n",
            "Epoch 12/15\n",
            "1222/1222 [==============================] - 2s 2ms/step - loss: 7.6930 - accuracy: 0.6870\n",
            "Epoch 13/15\n",
            "1222/1222 [==============================] - 2s 2ms/step - loss: 6.6260 - accuracy: 0.6890\n",
            "Epoch 14/15\n",
            "1222/1222 [==============================] - 2s 2ms/step - loss: 6.8361 - accuracy: 0.6903\n",
            "Epoch 15/15\n",
            "1222/1222 [==============================] - 2s 2ms/step - loss: 7.1292 - accuracy: 0.6918\n",
            "Epoch 1/15\n",
            "1222/1222 [==============================] - 3s 2ms/step - loss: 38.1787 - accuracy: 0.6772\n",
            "Epoch 2/15\n",
            "1222/1222 [==============================] - 2s 2ms/step - loss: 19.7587 - accuracy: 0.6864\n",
            "Epoch 3/15\n",
            "1222/1222 [==============================] - 3s 3ms/step - loss: 14.8948 - accuracy: 0.6835\n",
            "Epoch 4/15\n",
            "1222/1222 [==============================] - 2s 2ms/step - loss: 15.1057 - accuracy: 0.6817\n",
            "Epoch 5/15\n",
            "1222/1222 [==============================] - 2s 2ms/step - loss: 12.0961 - accuracy: 0.6810\n",
            "Epoch 6/15\n",
            "1222/1222 [==============================] - 2s 2ms/step - loss: 13.7375 - accuracy: 0.6820\n",
            "Epoch 7/15\n",
            "1222/1222 [==============================] - 2s 2ms/step - loss: 13.7818 - accuracy: 0.6839\n",
            "Epoch 8/15\n",
            "1222/1222 [==============================] - 3s 2ms/step - loss: 10.8061 - accuracy: 0.6848\n",
            "Epoch 9/15\n",
            "1222/1222 [==============================] - 3s 2ms/step - loss: 10.7273 - accuracy: 0.6809\n",
            "Epoch 10/15\n",
            "1222/1222 [==============================] - 2s 2ms/step - loss: 10.3246 - accuracy: 0.6851\n",
            "Epoch 11/15\n",
            "1222/1222 [==============================] - 2s 2ms/step - loss: 9.5397 - accuracy: 0.6828\n",
            "Epoch 12/15\n",
            "1222/1222 [==============================] - 2s 2ms/step - loss: 8.6263 - accuracy: 0.6834\n",
            "Epoch 13/15\n",
            "1222/1222 [==============================] - 2s 2ms/step - loss: 8.2121 - accuracy: 0.6878\n",
            "Epoch 14/15\n",
            "1222/1222 [==============================] - 3s 3ms/step - loss: 7.7042 - accuracy: 0.6916\n",
            "Epoch 15/15\n",
            "1222/1222 [==============================] - 2s 2ms/step - loss: 7.6414 - accuracy: 0.6869\n",
            "Epoch 1/15\n",
            "1222/1222 [==============================] - 3s 2ms/step - loss: 15.7472 - accuracy: 0.6855\n",
            "Epoch 2/15\n",
            "1222/1222 [==============================] - 3s 3ms/step - loss: 8.3711 - accuracy: 0.6884\n",
            "Epoch 3/15\n",
            "1222/1222 [==============================] - 2s 2ms/step - loss: 7.0612 - accuracy: 0.6885\n",
            "Epoch 4/15\n",
            "1222/1222 [==============================] - 2s 2ms/step - loss: 5.5627 - accuracy: 0.6892\n",
            "Epoch 5/15\n",
            "1222/1222 [==============================] - 2s 2ms/step - loss: 5.7794 - accuracy: 0.6916\n",
            "Epoch 6/15\n",
            "1222/1222 [==============================] - 2s 2ms/step - loss: 4.4478 - accuracy: 0.6895\n",
            "Epoch 7/15\n",
            "1222/1222 [==============================] - 3s 3ms/step - loss: 3.5602 - accuracy: 0.6931\n",
            "Epoch 8/15\n",
            "1222/1222 [==============================] - 2s 2ms/step - loss: 4.5588 - accuracy: 0.6885\n",
            "Epoch 9/15\n",
            "1222/1222 [==============================] - 2s 2ms/step - loss: 3.9562 - accuracy: 0.6919\n",
            "Epoch 10/15\n",
            "1222/1222 [==============================] - 2s 2ms/step - loss: 3.1369 - accuracy: 0.6972\n",
            "Epoch 11/15\n",
            "1222/1222 [==============================] - 2s 2ms/step - loss: 2.6665 - accuracy: 0.6986\n",
            "Epoch 12/15\n",
            "1222/1222 [==============================] - 4s 3ms/step - loss: 2.6850 - accuracy: 0.6990\n",
            "Epoch 13/15\n",
            "1222/1222 [==============================] - 2s 2ms/step - loss: 1.9269 - accuracy: 0.7074\n",
            "Epoch 14/15\n",
            "1222/1222 [==============================] - 2s 2ms/step - loss: 1.9238 - accuracy: 0.7058\n",
            "Epoch 15/15\n",
            "1222/1222 [==============================] - 2s 2ms/step - loss: 1.6847 - accuracy: 0.7139\n",
            "Epoch 1/15\n",
            "1222/1222 [==============================] - 3s 2ms/step - loss: 50.4377 - accuracy: 0.6793\n",
            "Epoch 2/15\n",
            "1222/1222 [==============================] - 3s 3ms/step - loss: 15.7787 - accuracy: 0.6915\n",
            "Epoch 3/15\n",
            "1222/1222 [==============================] - 2s 2ms/step - loss: 14.8191 - accuracy: 0.6933\n",
            "Epoch 4/15\n",
            "1222/1222 [==============================] - 2s 2ms/step - loss: 13.6449 - accuracy: 0.6922\n",
            "Epoch 5/15\n",
            "1222/1222 [==============================] - 2s 2ms/step - loss: 12.6492 - accuracy: 0.6941\n",
            "Epoch 6/15\n",
            "1222/1222 [==============================] - 2s 2ms/step - loss: 13.6338 - accuracy: 0.6931\n",
            "Epoch 7/15\n",
            "1222/1222 [==============================] - 3s 3ms/step - loss: 11.8063 - accuracy: 0.6945\n",
            "Epoch 8/15\n",
            "1222/1222 [==============================] - 2s 2ms/step - loss: 8.6205 - accuracy: 0.6935\n",
            "Epoch 9/15\n",
            "1222/1222 [==============================] - 2s 2ms/step - loss: 9.9826 - accuracy: 0.6960\n",
            "Epoch 10/15\n",
            "1222/1222 [==============================] - 2s 2ms/step - loss: 8.0680 - accuracy: 0.6967\n",
            "Epoch 11/15\n",
            "1222/1222 [==============================] - 2s 2ms/step - loss: 7.9037 - accuracy: 0.6999\n",
            "Epoch 12/15\n",
            "1222/1222 [==============================] - 3s 3ms/step - loss: 7.3292 - accuracy: 0.7001\n",
            "Epoch 13/15\n",
            "1222/1222 [==============================] - 2s 2ms/step - loss: 6.9827 - accuracy: 0.6965\n",
            "Epoch 14/15\n",
            "1222/1222 [==============================] - 2s 2ms/step - loss: 6.9532 - accuracy: 0.6991\n",
            "Epoch 15/15\n",
            "1222/1222 [==============================] - 2s 2ms/step - loss: 7.3402 - accuracy: 0.6962\n",
            "306/306 [==============================] - 1s 2ms/step\n",
            "306/306 [==============================] - 1s 2ms/step\n",
            "306/306 [==============================] - 1s 2ms/step\n",
            "306/306 [==============================] - 0s 1ms/step\n",
            "306/306 [==============================] - 0s 1ms/step\n",
            "306/306 [==============================] - 0s 1ms/step\n",
            "306/306 [==============================] - 0s 1ms/step\n",
            "306/306 [==============================] - 0s 1ms/step\n",
            "306/306 [==============================] - 0s 1ms/step\n",
            "306/306 [==============================] - 0s 1ms/step\n",
            "306/306 [==============================] - 0s 1ms/step\n",
            "306/306 [==============================] - 0s 1ms/step\n",
            "306/306 [==============================] - 0s 1ms/step\n",
            "306/306 [==============================] - 0s 1ms/step\n",
            "306/306 [==============================] - 0s 1ms/step\n",
            "Bagging Ensemble Accuracy: 78.24%\n"
          ]
        }
      ]
    },
    {
      "cell_type": "markdown",
      "source": [
        "Boosting Ensemble"
      ],
      "metadata": {
        "id": "84-yOf6ak104"
      }
    },
    {
      "cell_type": "code",
      "source": [
        "from keras.wrappers.scikit_learn import KerasClassifier\n",
        "from sklearn.ensemble import GradientBoostingClassifier\n",
        "\n",
        "\n",
        "ensemble_model = GradientBoostingClassifier(n_estimators=50, learning_rate=0.3, max_depth=4)\n",
        "ensemble_model.fit(X_train, y_train)\n",
        "y_pred = ensemble_model.predict(X_test)\n",
        "accuracy = accuracy_score(y_test, y_pred)\n",
        "print(\"Classification report:\")\n",
        "print(classification_report(y_test, y_pred))\n",
        "\n",
        "cm = confusion_matrix(y_test, y_pred)\n",
        "print(\"Confusion matrix:\")\n",
        "print(cm)\n",
        "\n",
        "print('Test loss:', score[0])\n",
        "print('Accuracy: {:.2%}'.format(score[1]))"
      ],
      "metadata": {
        "colab": {
          "base_uri": "https://localhost:8080/"
        },
        "id": "QXx9JIANk2LG",
        "outputId": "d29d13b4-c59f-41ad-8640-fb04b8ca655a"
      },
      "execution_count": null,
      "outputs": [
        {
          "output_type": "stream",
          "name": "stdout",
          "text": [
            "Classification report:\n",
            "              precision    recall  f1-score   support\n",
            "\n",
            "           0       0.89      0.94      0.92      7438\n",
            "           1       0.78      0.64      0.70      2331\n",
            "\n",
            "    accuracy                           0.87      9769\n",
            "   macro avg       0.84      0.79      0.81      9769\n",
            "weighted avg       0.87      0.87      0.87      9769\n",
            "\n",
            "Confusion matrix:\n",
            "[[7018  420]\n",
            " [ 848 1483]]\n",
            "Test loss: 0.5394582748413086\n",
            "Accuracy: 77.07%\n"
          ]
        }
      ]
    },
    {
      "cell_type": "markdown",
      "source": [
        "NEURAL NETWORK (2 HIDDEN LAYER)"
      ],
      "metadata": {
        "id": "ZgvP978d_src"
      }
    },
    {
      "cell_type": "code",
      "source": [
        "\n",
        "import keras\n",
        "from keras.models import Sequential\n",
        "from keras.layers import Dense\n",
        "from sklearn.metrics import classification_report\n",
        "from sklearn import metrics\n",
        "\n",
        "def create_ann_2():\n",
        "\n",
        "  ann_model = keras.Sequential()\n",
        "\n",
        "  # Add layer 1\n",
        "  ann_model.add(Dense(units=8, activation='relu', input_dim=14))\n",
        "\n",
        "  # Add layer 2\n",
        "  ann_model.add(Dense(units=4, activation='relu', input_dim=14))\n",
        "\n",
        "  ann_model.add(Dense(units = 1, kernel_initializer = 'uniform', activation = 'sigmoid'))\n",
        "\n",
        "  # Model construction\n",
        "  ann_model.compile(loss='binary_crossentropy', optimizer='adam', metrics=['accuracy'])\n",
        "\n",
        "  return ann_model\n",
        "\n",
        "ann_model=create_ann_2()\n",
        "# train model\n",
        "ann_model1.fit(X_train, y_train, epochs=15, batch_size=30)\n",
        "\n",
        "# Evaluate model\n",
        "score = ann_model1.evaluate(X_test, y_test, batch_size=30)\n",
        "\n",
        "print(\"Classification report:\")\n",
        "print(classification_report(y_test, y_pred))\n",
        "\n",
        "cm = confusion_matrix(y_test, y_pred)\n",
        "print(\"Confusion matrix:\")\n",
        "print(cm)\n",
        "\n",
        "print('Test loss:', score[0])\n",
        "print('Accuracy: {:.2%}'.format(score[1]))"
      ],
      "metadata": {
        "id": "COEu_3EJ_v_q"
      },
      "execution_count": null,
      "outputs": []
    },
    {
      "cell_type": "markdown",
      "source": [
        "BAGGING ENSEMBLE"
      ],
      "metadata": {
        "id": "IIlic33Nm_uO"
      }
    },
    {
      "cell_type": "code",
      "source": [
        "keras_clf = tf.keras.wrappers.scikit_learn.KerasClassifier(\n",
        "                            create_ann_2,\n",
        "                            epochs=10,\n",
        "                            verbose=True)\n",
        "\n",
        "keras_clf._estimator_type = \"classifier\"\n",
        "bagging = BaggingClassifier(base_estimator=keras_clf, n_estimators=10, random_state=42)\n",
        "bagging.fit(X_train, y_train)\n",
        "\n",
        "y_pred = bagging.predict(X_test)\n",
        "accuracy = accuracy_score(y_test, y_pred)\n",
        "print('Bagging Ensemble Accuracy: {:.2%}'.format(accuracy))"
      ],
      "metadata": {
        "colab": {
          "base_uri": "https://localhost:8080/"
        },
        "id": "klGqpmxyfjkk",
        "outputId": "36872a3e-a183-4f38-b313-d491c9f30841"
      },
      "execution_count": null,
      "outputs": [
        {
          "output_type": "stream",
          "name": "stdout",
          "text": [
            "Epoch 1/10\n",
            "1222/1222 [==============================] - 3s 2ms/step - loss: 1.5396 - accuracy: 0.7141\n",
            "Epoch 2/10\n",
            "1222/1222 [==============================] - 2s 2ms/step - loss: 0.5527 - accuracy: 0.7749\n",
            "Epoch 3/10\n",
            "1222/1222 [==============================] - 2s 2ms/step - loss: 0.5344 - accuracy: 0.7750\n",
            "Epoch 4/10\n",
            "1222/1222 [==============================] - 3s 3ms/step - loss: 0.5286 - accuracy: 0.7716\n",
            "Epoch 5/10\n",
            "1222/1222 [==============================] - 3s 2ms/step - loss: 0.5292 - accuracy: 0.7714\n",
            "Epoch 6/10\n",
            "1222/1222 [==============================] - 2s 2ms/step - loss: 0.5397 - accuracy: 0.7723\n",
            "Epoch 7/10\n",
            "1222/1222 [==============================] - 5s 4ms/step - loss: 0.5398 - accuracy: 0.7718\n",
            "Epoch 8/10\n",
            "1222/1222 [==============================] - 6s 5ms/step - loss: 0.5306 - accuracy: 0.7788\n",
            "Epoch 9/10\n",
            "1222/1222 [==============================] - 4s 3ms/step - loss: 0.5148 - accuracy: 0.7874\n",
            "Epoch 10/10\n",
            "1222/1222 [==============================] - 2s 2ms/step - loss: 0.4905 - accuracy: 0.8014\n",
            "Epoch 1/10\n",
            "1222/1222 [==============================] - 3s 2ms/step - loss: 24.8889 - accuracy: 0.6760\n",
            "Epoch 2/10\n",
            "1222/1222 [==============================] - 5s 4ms/step - loss: 6.3283 - accuracy: 0.6873\n",
            "Epoch 3/10\n",
            "1222/1222 [==============================] - 5s 4ms/step - loss: 5.3500 - accuracy: 0.6802\n",
            "Epoch 4/10\n",
            "1222/1222 [==============================] - 7s 5ms/step - loss: 3.5237 - accuracy: 0.6893\n",
            "Epoch 5/10\n",
            "1222/1222 [==============================] - 5s 4ms/step - loss: 2.5657 - accuracy: 0.6887\n",
            "Epoch 6/10\n",
            "1222/1222 [==============================] - 3s 2ms/step - loss: 2.0133 - accuracy: 0.7004\n",
            "Epoch 7/10\n",
            "1222/1222 [==============================] - 3s 2ms/step - loss: 1.6246 - accuracy: 0.7074\n",
            "Epoch 8/10\n",
            "1222/1222 [==============================] - 3s 2ms/step - loss: 1.4176 - accuracy: 0.7150\n",
            "Epoch 9/10\n",
            "1222/1222 [==============================] - 3s 2ms/step - loss: 1.2313 - accuracy: 0.7155\n",
            "Epoch 10/10\n",
            "1222/1222 [==============================] - 2s 2ms/step - loss: 1.1124 - accuracy: 0.7260\n",
            "Epoch 1/10\n",
            "1222/1222 [==============================] - 4s 3ms/step - loss: 3.2991 - accuracy: 0.6969\n",
            "Epoch 2/10\n",
            "1222/1222 [==============================] - 3s 2ms/step - loss: 0.8086 - accuracy: 0.7519\n",
            "Epoch 3/10\n",
            "1222/1222 [==============================] - 3s 2ms/step - loss: 0.5612 - accuracy: 0.7850\n",
            "Epoch 4/10\n",
            "1222/1222 [==============================] - 3s 2ms/step - loss: 0.4983 - accuracy: 0.8018\n",
            "Epoch 5/10\n",
            "1222/1222 [==============================] - 4s 4ms/step - loss: 0.4907 - accuracy: 0.8046\n",
            "Epoch 6/10\n",
            "1222/1222 [==============================] - 6s 5ms/step - loss: 0.4845 - accuracy: 0.8032\n",
            "Epoch 7/10\n",
            "1222/1222 [==============================] - 3s 2ms/step - loss: 0.4832 - accuracy: 0.8036\n",
            "Epoch 8/10\n",
            "1222/1222 [==============================] - 2s 2ms/step - loss: 0.4845 - accuracy: 0.8044\n",
            "Epoch 9/10\n",
            "1222/1222 [==============================] - 2s 2ms/step - loss: 0.5123 - accuracy: 0.7886\n",
            "Epoch 10/10\n",
            "1222/1222 [==============================] - 3s 3ms/step - loss: 0.5175 - accuracy: 0.7852\n",
            "Epoch 1/10\n",
            "1222/1222 [==============================] - 3s 2ms/step - loss: 34.7604 - accuracy: 0.6639\n",
            "Epoch 2/10\n",
            "1222/1222 [==============================] - 2s 2ms/step - loss: 16.5925 - accuracy: 0.6847\n",
            "Epoch 3/10\n",
            "1222/1222 [==============================] - 3s 2ms/step - loss: 12.6559 - accuracy: 0.6876\n",
            "Epoch 4/10\n",
            "1222/1222 [==============================] - 2s 2ms/step - loss: 11.5749 - accuracy: 0.6876\n",
            "Epoch 5/10\n",
            "1222/1222 [==============================] - 3s 3ms/step - loss: 7.7997 - accuracy: 0.6875\n",
            "Epoch 6/10\n",
            "1222/1222 [==============================] - 2s 2ms/step - loss: 7.4810 - accuracy: 0.6866\n",
            "Epoch 7/10\n",
            "1222/1222 [==============================] - 2s 2ms/step - loss: 5.1318 - accuracy: 0.6894\n",
            "Epoch 8/10\n",
            "1222/1222 [==============================] - 2s 2ms/step - loss: 4.5317 - accuracy: 0.6902\n",
            "Epoch 9/10\n",
            "1222/1222 [==============================] - 3s 2ms/step - loss: 3.1517 - accuracy: 0.6936\n",
            "Epoch 10/10\n",
            "1222/1222 [==============================] - 3s 2ms/step - loss: 2.6640 - accuracy: 0.6963\n",
            "Epoch 1/10\n",
            "1222/1222 [==============================] - 3s 2ms/step - loss: 7.1735 - accuracy: 0.6874\n",
            "Epoch 2/10\n",
            "1222/1222 [==============================] - 2s 2ms/step - loss: 4.0902 - accuracy: 0.6941\n",
            "Epoch 3/10\n",
            "1222/1222 [==============================] - 2s 2ms/step - loss: 3.7271 - accuracy: 0.6942\n",
            "Epoch 4/10\n",
            "1222/1222 [==============================] - 3s 3ms/step - loss: 4.0979 - accuracy: 0.6920\n",
            "Epoch 5/10\n",
            "1222/1222 [==============================] - 2s 2ms/step - loss: 2.8958 - accuracy: 0.6987\n",
            "Epoch 6/10\n",
            "1222/1222 [==============================] - 2s 2ms/step - loss: 3.0936 - accuracy: 0.6953\n",
            "Epoch 7/10\n",
            "1222/1222 [==============================] - 2s 2ms/step - loss: 2.6757 - accuracy: 0.6992\n",
            "Epoch 8/10\n",
            "1222/1222 [==============================] - 2s 2ms/step - loss: 2.2702 - accuracy: 0.7048\n",
            "Epoch 9/10\n",
            "1222/1222 [==============================] - 3s 3ms/step - loss: 1.7308 - accuracy: 0.7091\n",
            "Epoch 10/10\n",
            "1222/1222 [==============================] - 2s 2ms/step - loss: 1.4783 - accuracy: 0.7134\n",
            "Epoch 1/10\n",
            "1222/1222 [==============================] - 3s 2ms/step - loss: 37.7810 - accuracy: 0.6711\n",
            "Epoch 2/10\n",
            "1222/1222 [==============================] - 3s 3ms/step - loss: 11.6631 - accuracy: 0.6808\n",
            "Epoch 3/10\n",
            "1222/1222 [==============================] - 2s 2ms/step - loss: 6.5897 - accuracy: 0.6817\n",
            "Epoch 4/10\n",
            "1222/1222 [==============================] - 2s 2ms/step - loss: 2.1751 - accuracy: 0.6915\n",
            "Epoch 5/10\n",
            "1222/1222 [==============================] - 2s 2ms/step - loss: 0.8537 - accuracy: 0.7235\n",
            "Epoch 6/10\n",
            "1222/1222 [==============================] - 2s 2ms/step - loss: 0.5752 - accuracy: 0.7667\n",
            "Epoch 7/10\n",
            "1222/1222 [==============================] - 3s 3ms/step - loss: 0.5405 - accuracy: 0.7624\n",
            "Epoch 8/10\n",
            "1222/1222 [==============================] - 3s 2ms/step - loss: 0.5466 - accuracy: 0.7599\n",
            "Epoch 9/10\n",
            "1222/1222 [==============================] - 2s 2ms/step - loss: 0.5549 - accuracy: 0.7599\n",
            "Epoch 10/10\n",
            "1222/1222 [==============================] - 2s 2ms/step - loss: 0.5511 - accuracy: 0.7599\n",
            "Epoch 1/10\n",
            "1222/1222 [==============================] - 3s 2ms/step - loss: 0.7000 - accuracy: 0.7627\n",
            "Epoch 2/10\n",
            "1222/1222 [==============================] - 3s 3ms/step - loss: 0.5341 - accuracy: 0.7815\n",
            "Epoch 3/10\n",
            "1222/1222 [==============================] - 2s 2ms/step - loss: 0.4965 - accuracy: 0.7982\n",
            "Epoch 4/10\n",
            "1222/1222 [==============================] - 2s 2ms/step - loss: 0.4983 - accuracy: 0.7961\n",
            "Epoch 5/10\n",
            "1222/1222 [==============================] - 2s 2ms/step - loss: 0.4918 - accuracy: 0.7986\n",
            "Epoch 6/10\n",
            "1222/1222 [==============================] - 3s 2ms/step - loss: 0.4921 - accuracy: 0.7996\n",
            "Epoch 7/10\n",
            "1222/1222 [==============================] - 3s 3ms/step - loss: 0.4918 - accuracy: 0.7992\n",
            "Epoch 8/10\n",
            "1222/1222 [==============================] - 2s 2ms/step - loss: 0.4905 - accuracy: 0.8007\n",
            "Epoch 9/10\n",
            "1222/1222 [==============================] - 2s 2ms/step - loss: 0.4933 - accuracy: 0.7988\n",
            "Epoch 10/10\n",
            "1222/1222 [==============================] - 3s 2ms/step - loss: 0.4892 - accuracy: 0.8008\n",
            "Epoch 1/10\n",
            "1222/1222 [==============================] - 3s 2ms/step - loss: 13.6476 - accuracy: 0.6722\n",
            "Epoch 2/10\n",
            "1222/1222 [==============================] - 2s 2ms/step - loss: 2.3877 - accuracy: 0.6923\n",
            "Epoch 3/10\n",
            "1222/1222 [==============================] - 2s 2ms/step - loss: 1.5121 - accuracy: 0.7093\n",
            "Epoch 4/10\n",
            "1222/1222 [==============================] - 3s 2ms/step - loss: 1.0913 - accuracy: 0.7171\n",
            "Epoch 5/10\n",
            "1222/1222 [==============================] - 3s 3ms/step - loss: 0.6493 - accuracy: 0.7585\n",
            "Epoch 6/10\n",
            "1222/1222 [==============================] - 2s 2ms/step - loss: 0.5458 - accuracy: 0.7869\n",
            "Epoch 7/10\n",
            "1222/1222 [==============================] - 2s 2ms/step - loss: 0.4986 - accuracy: 0.8030\n",
            "Epoch 8/10\n",
            "1222/1222 [==============================] - 2s 2ms/step - loss: 0.4922 - accuracy: 0.8028\n",
            "Epoch 9/10\n",
            "1222/1222 [==============================] - 3s 2ms/step - loss: 0.4916 - accuracy: 0.8019\n",
            "Epoch 10/10\n",
            "1222/1222 [==============================] - 3s 3ms/step - loss: 0.4962 - accuracy: 0.7979\n",
            "Epoch 1/10\n",
            "1222/1222 [==============================] - 3s 2ms/step - loss: 0.6008 - accuracy: 0.7654\n",
            "Epoch 2/10\n",
            "1222/1222 [==============================] - 2s 2ms/step - loss: 0.5483 - accuracy: 0.7651\n",
            "Epoch 3/10\n",
            "1222/1222 [==============================] - 2s 2ms/step - loss: 0.5457 - accuracy: 0.7644\n",
            "Epoch 4/10\n",
            "1222/1222 [==============================] - 4s 3ms/step - loss: 0.5486 - accuracy: 0.7650\n",
            "Epoch 5/10\n",
            "1222/1222 [==============================] - 2s 2ms/step - loss: 0.5446 - accuracy: 0.7653\n",
            "Epoch 6/10\n",
            "1222/1222 [==============================] - 2s 2ms/step - loss: 0.5434 - accuracy: 0.7666\n",
            "Epoch 7/10\n",
            "1222/1222 [==============================] - 2s 2ms/step - loss: 0.5451 - accuracy: 0.7662\n",
            "Epoch 8/10\n",
            "1222/1222 [==============================] - 2s 2ms/step - loss: 0.5446 - accuracy: 0.7654\n",
            "Epoch 9/10\n",
            "1222/1222 [==============================] - 4s 3ms/step - loss: 0.5454 - accuracy: 0.7645\n",
            "Epoch 10/10\n",
            "1222/1222 [==============================] - 2s 2ms/step - loss: 0.5454 - accuracy: 0.7645\n",
            "Epoch 1/10\n",
            "1222/1222 [==============================] - 3s 2ms/step - loss: 10.4546 - accuracy: 0.6625\n",
            "Epoch 2/10\n",
            "1222/1222 [==============================] - 2s 2ms/step - loss: 4.2609 - accuracy: 0.6856\n",
            "Epoch 3/10\n",
            "1222/1222 [==============================] - 3s 2ms/step - loss: 2.7515 - accuracy: 0.6909\n",
            "Epoch 4/10\n",
            "1222/1222 [==============================] - 3s 3ms/step - loss: 1.7012 - accuracy: 0.6998\n",
            "Epoch 5/10\n",
            "1222/1222 [==============================] - 2s 2ms/step - loss: 1.4870 - accuracy: 0.6996\n",
            "Epoch 6/10\n",
            "1222/1222 [==============================] - 2s 2ms/step - loss: 0.9568 - accuracy: 0.7235\n",
            "Epoch 7/10\n",
            "1222/1222 [==============================] - 2s 2ms/step - loss: 0.7703 - accuracy: 0.7418\n",
            "Epoch 8/10\n",
            "1222/1222 [==============================] - 3s 3ms/step - loss: 0.6586 - accuracy: 0.7600\n",
            "Epoch 9/10\n",
            "1222/1222 [==============================] - 3s 2ms/step - loss: 0.5467 - accuracy: 0.7894\n",
            "Epoch 10/10\n",
            "1222/1222 [==============================] - 2s 2ms/step - loss: 0.5010 - accuracy: 0.8009\n",
            "306/306 [==============================] - 0s 1ms/step\n",
            "306/306 [==============================] - 0s 1ms/step\n",
            "306/306 [==============================] - 1s 1ms/step\n",
            "306/306 [==============================] - 0s 1ms/step\n",
            "306/306 [==============================] - 0s 1ms/step\n",
            "306/306 [==============================] - 0s 1ms/step\n",
            "306/306 [==============================] - 0s 1ms/step\n",
            "306/306 [==============================] - 1s 2ms/step\n",
            "306/306 [==============================] - 1s 2ms/step\n",
            "306/306 [==============================] - 0s 1ms/step\n",
            "Bagging Ensemble Accuracy: 79.35%\n"
          ]
        }
      ]
    },
    {
      "cell_type": "markdown",
      "source": [
        "BOOSTING ENSEMBLE"
      ],
      "metadata": {
        "id": "c7LnoWc3ICK-"
      }
    },
    {
      "cell_type": "code",
      "source": [
        "from keras.wrappers.scikit_learn import KerasClassifier\n",
        "from sklearn.ensemble import GradientBoostingClassifier\n",
        "\n",
        "\n",
        "ensemble_model = GradientBoostingClassifier(n_estimators=50, learning_rate=0.4, max_depth=4)\n",
        "ensemble_model.fit(X_train, y_train)\n",
        "y_pred = ensemble_model.predict(X_test)\n",
        "accuracy = accuracy_score(y_test, y_pred)\n",
        "\n",
        "print(\"Classification report:\")\n",
        "print(classification_report(y_test, y_pred))\n",
        "\n",
        "cm = confusion_matrix(y_test, y_pred)\n",
        "print(\"Confusion matrix:\")\n",
        "print(cm)\n",
        "\n",
        "print('Test loss:', score[0])\n",
        "print('Accuracy: {:.2%}'.format(score[1]))"
      ],
      "metadata": {
        "colab": {
          "base_uri": "https://localhost:8080/"
        },
        "id": "B2KxjbIvICRf",
        "outputId": "65e18534-a8b8-4d1f-c182-bed2c0fa0ef9"
      },
      "execution_count": null,
      "outputs": [
        {
          "output_type": "stream",
          "name": "stdout",
          "text": [
            "Classification report:\n",
            "              precision    recall  f1-score   support\n",
            "\n",
            "           0       0.89      0.94      0.92      7353\n",
            "           1       0.79      0.66      0.72      2416\n",
            "\n",
            "    accuracy                           0.87      9769\n",
            "   macro avg       0.84      0.80      0.82      9769\n",
            "weighted avg       0.87      0.87      0.87      9769\n",
            "\n",
            "Confusion matrix:\n",
            "[[6930  423]\n",
            " [ 827 1589]]\n",
            "Test loss: 0.4946168065071106\n",
            "Accuracy: 80.15%\n"
          ]
        }
      ]
    },
    {
      "cell_type": "markdown",
      "source": [
        "#Support Vector Machine"
      ],
      "metadata": {
        "id": "Sl2NYFAWPfEM"
      }
    },
    {
      "cell_type": "code",
      "source": [
        "# Split data into features and target\n",
        "x = train_data.drop('income', axis=1)\n",
        "y = train_data['income']\n",
        "\n",
        "# Split data into training and testing sets\n",
        "X_train, X_test, y_train, y_test = train_test_split(x, y, test_size=0.2)\n",
        "\n",
        "# Scale the data\n",
        "from sklearn.preprocessing import StandardScaler\n",
        "sc = StandardScaler()\n",
        "X_train = sc.fit_transform(X_train)\n",
        "X_test = sc.transform(X_test)\n",
        "\n",
        "# Train the model\n",
        "svm = SVC(kernel='rbf', random_state=0, C=1.0, gamma='auto')\n",
        "svm.fit(X_train, y_train)\n",
        "\n",
        "# Test the model\n",
        "y_pred = svm.predict(X_test)\n",
        "\n",
        "# Evaluate the model\n",
        "print(\"Classification Report:\")\n",
        "print(classification_report(y_test, y_pred))\n",
        "\n",
        "print(\"Confusion Matrix:\")\n",
        "print(confusion_matrix(y_test, y_pred))\n",
        "\n",
        "accuracy = accuracy_score(y_test, y_pred)\n",
        "print(\"Accuracy: {:.2f}%\".format(accuracy*100))\n"
      ],
      "metadata": {
        "id": "KFYfoXRXehnO",
        "colab": {
          "base_uri": "https://localhost:8080/"
        },
        "outputId": "27c02e88-1628-4da7-8588-0341541c0662"
      },
      "execution_count": null,
      "outputs": [
        {
          "output_type": "stream",
          "name": "stdout",
          "text": [
            "Classification Report:\n",
            "              precision    recall  f1-score   support\n",
            "\n",
            "           0       0.88      0.94      0.91      7473\n",
            "           1       0.74      0.57      0.64      2296\n",
            "\n",
            "    accuracy                           0.85      9769\n",
            "   macro avg       0.81      0.75      0.77      9769\n",
            "weighted avg       0.84      0.85      0.84      9769\n",
            "\n",
            "Confusion Matrix:\n",
            "[[7006  467]\n",
            " [ 997 1299]]\n",
            "Accuracy: 85.01%\n"
          ]
        }
      ]
    },
    {
      "cell_type": "markdown",
      "source": [
        "SVM - Bagging"
      ],
      "metadata": {
        "id": "gW8GCIWFKv2z"
      }
    },
    {
      "cell_type": "code",
      "source": [
        "# Bagging Classifier\n",
        "bagging = BaggingClassifier(n_estimators=100, max_samples=0.8, max_features=1.0)\n",
        "\n",
        "# Train the model on training data\n",
        "bagging.fit(X_train, y_train)\n",
        "\n",
        "# Test the model on test data\n",
        "y_pred = bagging.predict(X_test)\n",
        "\n",
        "# Evaluate the performance of the model\n",
        "print(\"Classification Report:\")\n",
        "print(classification_report(y_test, y_pred))\n",
        "\n",
        "print(\"Confusion Matrix:\")\n",
        "print(confusion_matrix(y_test, y_pred))\n",
        "\n",
        "accuracy = accuracy_score(y_test, y_pred)\n",
        "print(\"Bagging Ensemble Accuracy: {:.2f}%\".format(accuracy*100))\n"
      ],
      "metadata": {
        "colab": {
          "base_uri": "https://localhost:8080/"
        },
        "id": "R2_KyIo0K2eQ",
        "outputId": "0f251c7d-d9ce-4347-9a69-d6889e13b4c6"
      },
      "execution_count": null,
      "outputs": [
        {
          "output_type": "stream",
          "name": "stdout",
          "text": [
            "Classification Report:\n",
            "              precision    recall  f1-score   support\n",
            "\n",
            "           0       0.89      0.93      0.91      7473\n",
            "           1       0.73      0.63      0.68      2296\n",
            "\n",
            "    accuracy                           0.86      9769\n",
            "   macro avg       0.81      0.78      0.79      9769\n",
            "weighted avg       0.85      0.86      0.86      9769\n",
            "\n",
            "Confusion Matrix:\n",
            "[[6950  523]\n",
            " [ 848 1448]]\n",
            "Bagging Ensemble Accuracy: 85.97%\n"
          ]
        }
      ]
    },
    {
      "cell_type": "markdown",
      "source": [
        "SVM- Boosting"
      ],
      "metadata": {
        "id": "gP7szamqK24u"
      }
    },
    {
      "cell_type": "code",
      "source": [
        "# Split data into features and target\n",
        "x = train_data.drop('income', axis=1)\n",
        "y = train_data['income']\n",
        "\n",
        "# Split data into training and testing sets\n",
        "X_train, X_test, y_train, y_test = train_test_split(x, y, test_size=0.2)\n",
        "\n",
        "# Scale the data\n",
        "from sklearn.preprocessing import StandardScaler\n",
        "sc = StandardScaler()\n",
        "X_train = sc.fit_transform(X_train)\n",
        "X_test = sc.transform(X_test)\n",
        "\n",
        "# Train the model\n",
        "ada = AdaBoostClassifier(n_estimators=50, random_state=0)\n",
        "ada.fit(X_train, y_train)\n",
        "\n",
        "# Test the model\n",
        "y_pred = ada.predict(X_test)\n",
        "\n",
        "# Evaluate the model\n",
        "print(\"Classification Report:\")\n",
        "print(classification_report(y_test, y_pred))\n",
        "\n",
        "print(\"Confusion Matrix:\")\n",
        "print(confusion_matrix(y_test, y_pred))\n",
        "\n",
        "accuracy = accuracy_score(y_test, y_pred)\n",
        "print(\"Boosting Ensemble Accuracy: {:.2f}%\".format(accuracy*100))\n"
      ],
      "metadata": {
        "colab": {
          "base_uri": "https://localhost:8080/"
        },
        "id": "YWDRAnMZK3Uc",
        "outputId": "a26a6610-165a-440d-a809-fa99f61646c6"
      },
      "execution_count": null,
      "outputs": [
        {
          "output_type": "stream",
          "name": "stdout",
          "text": [
            "Classification Report:\n",
            "              precision    recall  f1-score   support\n",
            "\n",
            "           0       0.88      0.94      0.91      7460\n",
            "           1       0.77      0.60      0.67      2309\n",
            "\n",
            "    accuracy                           0.86      9769\n",
            "   macro avg       0.83      0.77      0.79      9769\n",
            "weighted avg       0.86      0.86      0.86      9769\n",
            "\n",
            "Confusion Matrix:\n",
            "[[7033  427]\n",
            " [ 916 1393]]\n",
            "Boosting Ensemble Accuracy: 86.25%\n"
          ]
        }
      ]
    }
  ]
}